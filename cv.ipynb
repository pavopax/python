{
 "cells": [
  {
   "cell_type": "markdown",
   "metadata": {},
   "source": [
    "# Cross Validation\n",
    "\n",
    "Nested cross-validation means you apply cross-validation twice (and separately!):\n",
    "1. Inner CV: for hyperparameter tuning\n",
    "2. Outer CV: for estimating generalization performance\n",
    "\n",
    "Nested cross-validation is recommended **when you have \"small\" or noisy datasets.**\n",
    "\n",
    "### Contents\n",
    "\n",
    "**Model**\n",
    "\n",
    "* Random Forest\n",
    "* With grid search for hyperparameter tuning via 5-fold inner cross-validation\n",
    "\n",
    "**Evaluate**\n",
    "\n",
    "* Single train/test split\n",
    "* 3-fold (outer) cross-validation\n",
    "\n",
    "**Notes**\n",
    "\n",
    "* Explaining models (feature importances)\n",
    "* _Repeated_ nested cross-validation\n",
    "* The best single line of machine learning code, ever\n",
    "* You don't need a holdout dataset\n",
    "  \n",
    "### Py script\n",
    "\n",
    "For the condensed python script, see: TBD"
   ]
  },
  {
   "cell_type": "code",
   "execution_count": 1,
   "metadata": {},
   "outputs": [],
   "source": [
    "import pandas as pd\n",
    "\n",
    "from sklearn.datasets import make_classification\n",
    "from sklearn.preprocessing import StandardScaler\n",
    "from sklearn.pipeline import make_pipeline\n",
    "from sklearn.model_selection import (GridSearchCV, cross_validate,\n",
    "                                     train_test_split, RepeatedStratifiedKFold)\n",
    "from sklearn.metrics import (accuracy_score, roc_auc_score, average_precision_score,\n",
    "                             f1_score)\n",
    "\n",
    "from sklearn.ensemble import RandomForestClassifier\n",
    "from sklearn.linear_model import LogisticRegressionCV"
   ]
  },
  {
   "cell_type": "code",
   "execution_count": 2,
   "metadata": {},
   "outputs": [],
   "source": [
    "random_state = 99\n",
    "\n",
    "X, y = make_classification(n_samples=1000, n_features=20, n_informative=5, n_redundant=0,\n",
    "                           random_state=random_state)"
   ]
  },
  {
   "cell_type": "markdown",
   "metadata": {},
   "source": [
    "# Model\n",
    "\n",
    "Distinguishing _inner_ cross-validation from _outer_ cross-validation"
   ]
  },
  {
   "cell_type": "code",
   "execution_count": 3,
   "metadata": {},
   "outputs": [],
   "source": [
    "inner_cv = 5\n",
    "outer_cv = 3\n",
    "\n",
    "inner_metric = 'roc_auc'\n",
    "outer_metrics = ['roc_auc', 'average_precision', 'f1']\n",
    "\n",
    "verbose = 1"
   ]
  },
  {
   "cell_type": "code",
   "execution_count": 4,
   "metadata": {},
   "outputs": [],
   "source": [
    "# see pipe.get_params()\n",
    "param_grid = dict(\n",
    "    randomforestclassifier__n_estimators=[100, 200],\n",
    "    randomforestclassifier__min_samples_leaf=[1, 2]\n",
    ")"
   ]
  },
  {
   "cell_type": "code",
   "execution_count": 5,
   "metadata": {},
   "outputs": [],
   "source": [
    "model = make_pipeline(\n",
    "    StandardScaler(),\n",
    "    RandomForestClassifier(random_state=random_state)\n",
    ")"
   ]
  },
  {
   "cell_type": "code",
   "execution_count": 6,
   "metadata": {},
   "outputs": [],
   "source": [
    "# inner cv is for hyperparameter tuning\n",
    "estimator = GridSearchCV(estimator=model, param_grid=param_grid, scoring=inner_metric,\n",
    "                         cv=inner_cv, refit=True, return_train_score=False, verbose=0)"
   ]
  },
  {
   "cell_type": "markdown",
   "metadata": {},
   "source": [
    "# Evaluate"
   ]
  },
  {
   "cell_type": "markdown",
   "metadata": {},
   "source": [
    "## Single train/test split\n",
    "\n",
    "Not recommended for \"smaller\" or noisier datasets"
   ]
  },
  {
   "cell_type": "code",
   "execution_count": 7,
   "metadata": {},
   "outputs": [],
   "source": [
    "# \"crude\" outer cv via single train/test split\n",
    "X_train, X_test, y_train, y_test = train_test_split(\n",
    "    X, y, test_size=1/outer_cv, random_state=random_state)"
   ]
  },
  {
   "cell_type": "code",
   "execution_count": 8,
   "metadata": {},
   "outputs": [],
   "source": [
    "estimator.fit(X_train, y_train);"
   ]
  },
  {
   "cell_type": "code",
   "execution_count": 9,
   "metadata": {},
   "outputs": [],
   "source": [
    "preds_class = estimator.predict(X_test)\n",
    "preds_probs = estimator.predict_proba(X_test)[:,1] # take probs for y==1"
   ]
  },
  {
   "cell_type": "code",
   "execution_count": 10,
   "metadata": {},
   "outputs": [
    {
     "data": {
      "text/plain": [
       "0.9169272237196766"
      ]
     },
     "execution_count": 10,
     "metadata": {},
     "output_type": "execute_result"
    }
   ],
   "source": [
    "estimator.score(X_test, y_test)"
   ]
  },
  {
   "cell_type": "code",
   "execution_count": 11,
   "metadata": {},
   "outputs": [
    {
     "data": {
      "text/plain": [
       "0.9169272237196766"
      ]
     },
     "execution_count": 11,
     "metadata": {},
     "output_type": "execute_result"
    }
   ],
   "source": [
    "# same as estimator.score() due to `inner_metric`\n",
    "roc_auc_score(y_test, preds_probs)"
   ]
  },
  {
   "cell_type": "code",
   "execution_count": 12,
   "metadata": {},
   "outputs": [
    {
     "data": {
      "text/plain": [
       "(0.8532934131736527, 0.8551123090745734)"
      ]
     },
     "execution_count": 12,
     "metadata": {},
     "output_type": "execute_result"
    }
   ],
   "source": [
    "# other scores\n",
    "accuracy_score(y_test, preds_class), roc_auc_score(y_test, preds_class)"
   ]
  },
  {
   "cell_type": "markdown",
   "metadata": {},
   "source": [
    "## Nested Cross Validation\n",
    "\n",
    "Preferred, especially for \"smaller\" or noisier datasets"
   ]
  },
  {
   "cell_type": "code",
   "execution_count": 13,
   "metadata": {},
   "outputs": [
    {
     "name": "stderr",
     "output_type": "stream",
     "text": [
      "[Parallel(n_jobs=1)]: Using backend SequentialBackend with 1 concurrent workers.\n",
      "[Parallel(n_jobs=1)]: Done   3 out of   3 | elapsed:   16.9s finished\n"
     ]
    }
   ],
   "source": [
    "# outer cv is for estimating generalization performance\n",
    "cv_results = cross_validate(estimator, X, y, scoring=outer_metrics,\n",
    "                            cv=outer_cv, verbose=verbose, return_train_score=False,\n",
    "                            return_estimator=True)"
   ]
  },
  {
   "cell_type": "code",
   "execution_count": 14,
   "metadata": {},
   "outputs": [
    {
     "data": {
      "text/html": [
       "<div>\n",
       "<style scoped>\n",
       "    .dataframe tbody tr th:only-of-type {\n",
       "        vertical-align: middle;\n",
       "    }\n",
       "\n",
       "    .dataframe tbody tr th {\n",
       "        vertical-align: top;\n",
       "    }\n",
       "\n",
       "    .dataframe thead th {\n",
       "        text-align: right;\n",
       "    }\n",
       "</style>\n",
       "<table border=\"1\" class=\"dataframe\">\n",
       "  <thead>\n",
       "    <tr style=\"text-align: right;\">\n",
       "      <th></th>\n",
       "      <th>fit_time</th>\n",
       "      <th>score_time</th>\n",
       "      <th>estimator</th>\n",
       "      <th>test_roc_auc</th>\n",
       "      <th>test_average_precision</th>\n",
       "      <th>test_f1</th>\n",
       "    </tr>\n",
       "  </thead>\n",
       "  <tbody>\n",
       "    <tr>\n",
       "      <th>0</th>\n",
       "      <td>5.618918</td>\n",
       "      <td>0.021799</td>\n",
       "      <td>GridSearchCV(cv=5,\\n             estimator=Pip...</td>\n",
       "      <td>0.956847</td>\n",
       "      <td>0.954179</td>\n",
       "      <td>0.865330</td>\n",
       "    </tr>\n",
       "    <tr>\n",
       "      <th>1</th>\n",
       "      <td>5.629152</td>\n",
       "      <td>0.040707</td>\n",
       "      <td>GridSearchCV(cv=5,\\n             estimator=Pip...</td>\n",
       "      <td>0.937577</td>\n",
       "      <td>0.910025</td>\n",
       "      <td>0.877193</td>\n",
       "    </tr>\n",
       "    <tr>\n",
       "      <th>2</th>\n",
       "      <td>5.572243</td>\n",
       "      <td>0.039975</td>\n",
       "      <td>GridSearchCV(cv=5,\\n             estimator=Pip...</td>\n",
       "      <td>0.917322</td>\n",
       "      <td>0.897543</td>\n",
       "      <td>0.845714</td>\n",
       "    </tr>\n",
       "  </tbody>\n",
       "</table>\n",
       "</div>"
      ],
      "text/plain": [
       "   fit_time  score_time                                          estimator  \\\n",
       "0  5.618918    0.021799  GridSearchCV(cv=5,\\n             estimator=Pip...   \n",
       "1  5.629152    0.040707  GridSearchCV(cv=5,\\n             estimator=Pip...   \n",
       "2  5.572243    0.039975  GridSearchCV(cv=5,\\n             estimator=Pip...   \n",
       "\n",
       "   test_roc_auc  test_average_precision   test_f1  \n",
       "0      0.956847                0.954179  0.865330  \n",
       "1      0.937577                0.910025  0.877193  \n",
       "2      0.917322                0.897543  0.845714  "
      ]
     },
     "execution_count": 14,
     "metadata": {},
     "output_type": "execute_result"
    }
   ],
   "source": [
    "pd.DataFrame(cv_results)"
   ]
  },
  {
   "cell_type": "code",
   "execution_count": 15,
   "metadata": {},
   "outputs": [
    {
     "data": {
      "text/plain": [
       "(0.9372484739776632, 0.0161376018090444)"
      ]
     },
     "execution_count": 15,
     "metadata": {},
     "output_type": "execute_result"
    }
   ],
   "source": [
    "# You can compute mean, std if you have multiple estimates of generalization performance\n",
    "cv_results['test_roc_auc'].mean(), cv_results['test_roc_auc'].std()"
   ]
  },
  {
   "cell_type": "code",
   "execution_count": 16,
   "metadata": {},
   "outputs": [
    {
     "data": {
      "text/plain": [
       "(0.8627455936881363, 0.012980358649081303)"
      ]
     },
     "execution_count": 16,
     "metadata": {},
     "output_type": "execute_result"
    }
   ],
   "source": [
    "cv_results['test_f1'].mean(), cv_results['test_f1'].std()"
   ]
  },
  {
   "cell_type": "markdown",
   "metadata": {},
   "source": [
    "## Final model\n",
    "\n",
    "To deploy in production, train the final model by re-running _the full modeling procedure_ on the full dataset.\n",
    "\n",
    "The estimates of this modeling procedure's generalization performance are above, obtained from nested CV."
   ]
  },
  {
   "cell_type": "code",
   "execution_count": 17,
   "metadata": {},
   "outputs": [],
   "source": [
    "estimator.fit(X, y);"
   ]
  },
  {
   "cell_type": "code",
   "execution_count": 18,
   "metadata": {},
   "outputs": [],
   "source": [
    "# deploy (predict) in production\n",
    "# estimator.predict(X_new)"
   ]
  },
  {
   "cell_type": "code",
   "execution_count": 19,
   "metadata": {},
   "outputs": [
    {
     "data": {
      "text/plain": [
       "{'randomforestclassifier__min_samples_leaf': 2,\n",
       " 'randomforestclassifier__n_estimators': 200}"
      ]
     },
     "execution_count": 19,
     "metadata": {},
     "output_type": "execute_result"
    }
   ],
   "source": [
    "estimator.best_params_"
   ]
  },
  {
   "cell_type": "markdown",
   "metadata": {},
   "source": [
    "# Notes"
   ]
  },
  {
   "cell_type": "markdown",
   "metadata": {},
   "source": [
    "## Explaining models\n",
    "You can inspect feature importances from each of the cross-validated models\n",
    "\n",
    "They were saved with `cross_validate(..., return_estimator=True)`"
   ]
  },
  {
   "cell_type": "code",
   "execution_count": 20,
   "metadata": {},
   "outputs": [
    {
     "data": {
      "text/plain": [
       "3"
      ]
     },
     "execution_count": 20,
     "metadata": {},
     "output_type": "execute_result"
    }
   ],
   "source": [
    "# same number of fitted models as outer_cv\n",
    "len(cv_results['estimator'])"
   ]
  },
  {
   "cell_type": "code",
   "execution_count": 21,
   "metadata": {},
   "outputs": [],
   "source": [
    "fitted_estimators = [x for x in cv_results['estimator']]"
   ]
  },
  {
   "cell_type": "code",
   "execution_count": 22,
   "metadata": {},
   "outputs": [
    {
     "data": {
      "text/plain": [
       "[{'randomforestclassifier__min_samples_leaf': 1,\n",
       "  'randomforestclassifier__n_estimators': 100},\n",
       " {'randomforestclassifier__min_samples_leaf': 2,\n",
       "  'randomforestclassifier__n_estimators': 200},\n",
       " {'randomforestclassifier__min_samples_leaf': 2,\n",
       "  'randomforestclassifier__n_estimators': 200}]"
      ]
     },
     "execution_count": 22,
     "metadata": {},
     "output_type": "execute_result"
    }
   ],
   "source": [
    "# best hyperparameters from Grid Search\n",
    "[x.best_params_ for x in fitted_estimators]"
   ]
  },
  {
   "cell_type": "code",
   "execution_count": 23,
   "metadata": {},
   "outputs": [],
   "source": [
    "# Getting feature importances requires some digging\n",
    "# one_estimator = cv_results['estimator'][0]\n",
    "# one_estimator.best_estimator_.named_steps['randomforestclassifier'].feature_importances_"
   ]
  },
  {
   "cell_type": "code",
   "execution_count": 24,
   "metadata": {},
   "outputs": [],
   "source": [
    "importances = [x.best_estimator_.named_steps['randomforestclassifier'].feature_importances_\n",
    "               for x in fitted_estimators]"
   ]
  },
  {
   "cell_type": "code",
   "execution_count": 25,
   "metadata": {},
   "outputs": [
    {
     "data": {
      "image/png": "[encoded data removed]",
      "text/plain": [
       "<Figure size 864x576 with 1 Axes>"
      ]
     },
     "metadata": {
      "needs_background": "light"
     },
     "output_type": "display_data"
    }
   ],
   "source": [
    "# the number of peaks should match the number of informative features in data generated with `make_classification()`\n",
    "pd.DataFrame(importances).T.plot.bar(figsize=(12, 8));"
   ]
  },
  {
   "cell_type": "markdown",
   "metadata": {},
   "source": [
    "## Repeated nested CV\n",
    "To better assess variance of generalization scores, try _repeated_ nested CV. Use:\n",
    "\n",
    "```python\n",
    "from sklearn.model_selection import RepeatedStratifiedKFold\n",
    "\n",
    "outer_cv_k = 5\n",
    "outer_cv_repeats = 10\n",
    "\n",
    "outer_cv = RepeatedStratifiedKFold(n_splits=outer_cv_k, n_repeats=outer_cv_repeats)\n",
    "```\n",
    "\n",
    "(How many estimates of generalization performance will that get you?)"
   ]
  },
  {
   "cell_type": "markdown",
   "metadata": {},
   "source": [
    "## LogisticRegressionCV\n",
    "\n",
    "To use a linear model, use `sklearn.linear_model.LogisticRegressionCV` in place of `GridSearchCV()`.\n",
    "\n",
    "Models with `CV` suffix have built-in, efficient CV for hyperparameter selection, and they are _really_ powerful.\n",
    "\n",
    "Just a couple lines of code get you a long way there"
   ]
  },
  {
   "cell_type": "code",
   "execution_count": 26,
   "metadata": {},
   "outputs": [],
   "source": [
    "lrcv = make_pipeline(\n",
    "    StandardScaler(),\n",
    "    # The best single line of machine learning code ever\n",
    "    LogisticRegressionCV(Cs=20, cv=inner_cv, scoring=inner_metric, refit=True, random_state=random_state)\n",
    ")"
   ]
  },
  {
   "cell_type": "code",
   "execution_count": 27,
   "metadata": {},
   "outputs": [],
   "source": [
    "cv_results = cross_validate(lrcv, X, y, scoring=outer_metrics,\n",
    "                            cv=outer_cv, verbose=0, return_train_score=False,\n",
    "                            return_estimator=True)"
   ]
  },
  {
   "cell_type": "code",
   "execution_count": 28,
   "metadata": {},
   "outputs": [
    {
     "data": {
      "text/html": [
       "<div>\n",
       "<style scoped>\n",
       "    .dataframe tbody tr th:only-of-type {\n",
       "        vertical-align: middle;\n",
       "    }\n",
       "\n",
       "    .dataframe tbody tr th {\n",
       "        vertical-align: top;\n",
       "    }\n",
       "\n",
       "    .dataframe thead th {\n",
       "        text-align: right;\n",
       "    }\n",
       "</style>\n",
       "<table border=\"1\" class=\"dataframe\">\n",
       "  <thead>\n",
       "    <tr style=\"text-align: right;\">\n",
       "      <th></th>\n",
       "      <th>fit_time</th>\n",
       "      <th>score_time</th>\n",
       "      <th>estimator</th>\n",
       "      <th>test_roc_auc</th>\n",
       "      <th>test_average_precision</th>\n",
       "      <th>test_f1</th>\n",
       "    </tr>\n",
       "  </thead>\n",
       "  <tbody>\n",
       "    <tr>\n",
       "      <th>0</th>\n",
       "      <td>0.235589</td>\n",
       "      <td>0.002175</td>\n",
       "      <td>(StandardScaler(), LogisticRegressionCV(Cs=20,...</td>\n",
       "      <td>0.783857</td>\n",
       "      <td>0.711282</td>\n",
       "      <td>0.739884</td>\n",
       "    </tr>\n",
       "    <tr>\n",
       "      <th>1</th>\n",
       "      <td>0.231250</td>\n",
       "      <td>0.002207</td>\n",
       "      <td>(StandardScaler(), LogisticRegressionCV(Cs=20,...</td>\n",
       "      <td>0.780716</td>\n",
       "      <td>0.735329</td>\n",
       "      <td>0.692771</td>\n",
       "    </tr>\n",
       "    <tr>\n",
       "      <th>2</th>\n",
       "      <td>0.224117</td>\n",
       "      <td>0.002145</td>\n",
       "      <td>(StandardScaler(), LogisticRegressionCV(Cs=20,...</td>\n",
       "      <td>0.777000</td>\n",
       "      <td>0.739947</td>\n",
       "      <td>0.708709</td>\n",
       "    </tr>\n",
       "  </tbody>\n",
       "</table>\n",
       "</div>"
      ],
      "text/plain": [
       "   fit_time  score_time                                          estimator  \\\n",
       "0  0.235589    0.002175  (StandardScaler(), LogisticRegressionCV(Cs=20,...   \n",
       "1  0.231250    0.002207  (StandardScaler(), LogisticRegressionCV(Cs=20,...   \n",
       "2  0.224117    0.002145  (StandardScaler(), LogisticRegressionCV(Cs=20,...   \n",
       "\n",
       "   test_roc_auc  test_average_precision   test_f1  \n",
       "0      0.783857                0.711282  0.739884  \n",
       "1      0.780716                0.735329  0.692771  \n",
       "2      0.777000                0.739947  0.708709  "
      ]
     },
     "execution_count": 28,
     "metadata": {},
     "output_type": "execute_result"
    }
   ],
   "source": [
    "pd.DataFrame(cv_results)"
   ]
  },
  {
   "cell_type": "code",
   "execution_count": 29,
   "metadata": {},
   "outputs": [
    {
     "data": {
      "text/plain": [
       "(0.7805244427817044, 0.0028027116573389158)"
      ]
     },
     "execution_count": 29,
     "metadata": {},
     "output_type": "execute_result"
    }
   ],
   "source": [
    "cv_results['test_roc_auc'].mean(), cv_results['test_roc_auc'].std()"
   ]
  },
  {
   "cell_type": "code",
   "execution_count": 30,
   "metadata": {},
   "outputs": [
    {
     "data": {
      "text/plain": [
       "[array([0.00483293]), array([0.23357215]), array([0.01274275])]"
      ]
     },
     "execution_count": 30,
     "metadata": {},
     "output_type": "execute_result"
    }
   ],
   "source": [
    "# tuned hyperparameters from this (Ridge/L2) regressor, erm, classifier\n",
    "[x.named_steps['logisticregressioncv'].C_ for x in cv_results['estimator']]"
   ]
  },
  {
   "cell_type": "code",
   "execution_count": 31,
   "metadata": {},
   "outputs": [],
   "source": [
    "# linear models have coef_ not feature_importances_\n",
    "importances = [x.named_steps['logisticregressioncv'].coef_.flatten()\n",
    "               for x in cv_results['estimator']]"
   ]
  },
  {
   "cell_type": "code",
   "execution_count": 32,
   "metadata": {},
   "outputs": [
    {
     "data": {
      "image/png": "[encoded data removed]",
      "text/plain": [
       "<Figure size 864x576 with 1 Axes>"
      ]
     },
     "metadata": {
      "needs_background": "light"
     },
     "output_type": "display_data"
    }
   ],
   "source": [
    "# A bit less clear, but still decent, plus shows direction of effect, not just weight\n",
    "# Notes that this linear model is worse-performing compared to RF\n",
    "pd.DataFrame(importances).T.plot.bar(figsize=(12, 8));"
   ]
  },
  {
   "cell_type": "markdown",
   "metadata": {},
   "source": [
    "## You don't need a holdout dataset\n",
    "\n",
    "With nested cross validation, you won't learn anything new from a separate holdout dataset. You already have _multiple_ holdout datasets in nested cross validation!"
   ]
  },
  {
   "cell_type": "code",
   "execution_count": 33,
   "metadata": {},
   "outputs": [
    {
     "data": {
      "text/plain": [
       "((800, 20), (200, 20), (1000, 20))"
      ]
     },
     "execution_count": 33,
     "metadata": {},
     "output_type": "execute_result"
    }
   ],
   "source": [
    "# let's hold-out a \"secret\" 20% holdout dataset\n",
    "X_, X_holdout, y_, y_holdout = train_test_split(\n",
    "    X, y, test_size=0.2, random_state=random_state)\n",
    "\n",
    "X_.shape, X_holdout.shape, X.shape"
   ]
  },
  {
   "cell_type": "code",
   "execution_count": 34,
   "metadata": {},
   "outputs": [
    {
     "name": "stderr",
     "output_type": "stream",
     "text": [
      "[Parallel(n_jobs=1)]: Using backend SequentialBackend with 1 concurrent workers.\n",
      "[Parallel(n_jobs=1)]: Done  15 out of  15 | elapsed:  1.3min finished\n"
     ]
    }
   ],
   "source": [
    "# use new X_ and y_ with more robust CV assessment\n",
    "rkf = RepeatedStratifiedKFold(n_splits=outer_cv, n_repeats=5)\n",
    "cv_results = cross_validate(estimator, X_, y_, scoring=outer_metrics, cv=rkf,\n",
    "                           verbose=verbose)"
   ]
  },
  {
   "cell_type": "code",
   "execution_count": 35,
   "metadata": {},
   "outputs": [
    {
     "data": {
      "text/html": [
       "<div>\n",
       "<style scoped>\n",
       "    .dataframe tbody tr th:only-of-type {\n",
       "        vertical-align: middle;\n",
       "    }\n",
       "\n",
       "    .dataframe tbody tr th {\n",
       "        vertical-align: top;\n",
       "    }\n",
       "\n",
       "    .dataframe thead th {\n",
       "        text-align: right;\n",
       "    }\n",
       "</style>\n",
       "<table border=\"1\" class=\"dataframe\">\n",
       "  <thead>\n",
       "    <tr style=\"text-align: right;\">\n",
       "      <th></th>\n",
       "      <th>mean</th>\n",
       "      <th>std</th>\n",
       "      <th>count</th>\n",
       "    </tr>\n",
       "  </thead>\n",
       "  <tbody>\n",
       "    <tr>\n",
       "      <th>test_roc_auc</th>\n",
       "      <td>0.924265</td>\n",
       "      <td>0.015870</td>\n",
       "      <td>15.0</td>\n",
       "    </tr>\n",
       "    <tr>\n",
       "      <th>test_average_precision</th>\n",
       "      <td>0.897462</td>\n",
       "      <td>0.027770</td>\n",
       "      <td>15.0</td>\n",
       "    </tr>\n",
       "    <tr>\n",
       "      <th>test_f1</th>\n",
       "      <td>0.865765</td>\n",
       "      <td>0.017101</td>\n",
       "      <td>15.0</td>\n",
       "    </tr>\n",
       "  </tbody>\n",
       "</table>\n",
       "</div>"
      ],
      "text/plain": [
       "                            mean       std  count\n",
       "test_roc_auc            0.924265  0.015870   15.0\n",
       "test_average_precision  0.897462  0.027770   15.0\n",
       "test_f1                 0.865765  0.017101   15.0"
      ]
     },
     "execution_count": 35,
     "metadata": {},
     "output_type": "execute_result"
    }
   ],
   "source": [
    "score_names = [x for x in cv_results.keys() if 'test' in x]\n",
    "pd.DataFrame(cv_results)[score_names].describe().T[['mean', 'std', 'count']]"
   ]
  },
  {
   "cell_type": "code",
   "execution_count": 36,
   "metadata": {},
   "outputs": [],
   "source": [
    "# Oh, we also have a secret holdout. Will it tell us anything new?"
   ]
  },
  {
   "cell_type": "code",
   "execution_count": 37,
   "metadata": {},
   "outputs": [],
   "source": [
    "# Fit estimator pipeline on full dataset...\n",
    "estimator.fit(X_, y_);"
   ]
  },
  {
   "cell_type": "code",
   "execution_count": 38,
   "metadata": {},
   "outputs": [],
   "source": [
    "# ...And evaluate on the holdout\n",
    "preds_class = estimator.predict(X_holdout)\n",
    "preds_probs = estimator.predict_proba(X_holdout)[:,1]"
   ]
  },
  {
   "cell_type": "markdown",
   "metadata": {},
   "source": [
    "The following scores aren't \"new\".\n",
    "\n",
    "Our nested CV results above already told us as much. This holdout dataset didn't teach us anything \"new\"."
   ]
  },
  {
   "cell_type": "code",
   "execution_count": 39,
   "metadata": {},
   "outputs": [
    {
     "data": {
      "text/plain": [
       "0.9389022435897436"
      ]
     },
     "execution_count": 39,
     "metadata": {},
     "output_type": "execute_result"
    }
   ],
   "source": [
    "roc_auc_score(y_holdout, preds_probs)"
   ]
  },
  {
   "cell_type": "code",
   "execution_count": 40,
   "metadata": {},
   "outputs": [
    {
     "data": {
      "text/plain": [
       "0.9343756542961916"
      ]
     },
     "execution_count": 40,
     "metadata": {},
     "output_type": "execute_result"
    }
   ],
   "source": [
    "average_precision_score(y_holdout, preds_probs)"
   ]
  },
  {
   "cell_type": "code",
   "execution_count": 41,
   "metadata": {},
   "outputs": [
    {
     "data": {
      "text/plain": [
       "0.8514851485148515"
      ]
     },
     "execution_count": 41,
     "metadata": {},
     "output_type": "execute_result"
    }
   ],
   "source": [
    "f1_score(y_holdout, preds_class)"
   ]
  },
  {
   "cell_type": "code",
   "execution_count": null,
   "metadata": {},
   "outputs": [],
   "source": []
  }
 ],
 "metadata": {
  "kernelspec": {
   "display_name": "Python 3",
   "language": "python",
   "name": "python3"
  },
  "language_info": {
   "codemirror_mode": {
    "name": "ipython",
    "version": 3
   },
   "file_extension": ".py",
   "mimetype": "text/x-python",
   "name": "python",
   "nbconvert_exporter": "python",
   "pygments_lexer": "ipython3",
   "version": "3.8.5"
  }
 },
 "nbformat": 4,
 "nbformat_minor": 4
}
