{
 "cells": [
  {
   "cell_type": "markdown",
   "metadata": {},
   "source": [
    "# Investigating probabilistic predictions\n",
    "\n",
    "Also see `probabilistic-predictions-log-loss.jpg`"
   ]
  },
  {
   "cell_type": "code",
   "execution_count": 1,
   "metadata": {},
   "outputs": [],
   "source": [
    "import pandas as pd\n",
    "\n",
    "from sklearn.datasets import make_classification\n",
    "from sklearn.model_selection import cross_validate, cross_val_predict\n",
    "from sklearn.ensemble import GradientBoostingClassifier"
   ]
  },
  {
   "cell_type": "code",
   "execution_count": 2,
   "metadata": {},
   "outputs": [],
   "source": [
    "random_state = 1\n",
    "score_metrics = [\"roc_auc\", \"average_precision\", \"accuracy\", \"recall\", \"f1\", \"neg_log_loss\"]\n",
    "\n",
    "X, y = make_classification(n_features=500, class_sep=0.1, n_informative=2, random_state=random_state)"
   ]
  },
  {
   "cell_type": "code",
   "execution_count": 3,
   "metadata": {},
   "outputs": [],
   "source": [
    "gbm = GradientBoostingClassifier(n_estimators=10, learning_rate=0.5, random_state=random_state)\n",
    "gbm2 = GradientBoostingClassifier(n_estimators=1000, learning_rate=0.01, random_state=random_state)"
   ]
  },
  {
   "cell_type": "code",
   "execution_count": 4,
   "metadata": {},
   "outputs": [],
   "source": [
    "cv_results = cross_validate(gbm, X, y, scoring=score_metrics, cv=5)"
   ]
  },
  {
   "cell_type": "code",
   "execution_count": 5,
   "metadata": {},
   "outputs": [
    {
     "data": {
      "text/plain": [
       "[{'test_roc_auc': (0.43, 0.07)},\n",
       " {'test_average_precision': (0.46, 0.02)},\n",
       " {'test_accuracy': (0.44, 0.04)},\n",
       " {'test_recall': (0.36, 0.15)},\n",
       " {'test_f1': (0.37, 0.12)},\n",
       " {'test_neg_log_loss': (-1.36, 0.21)}]"
      ]
     },
     "execution_count": 5,
     "metadata": {},
     "output_type": "execute_result"
    }
   ],
   "source": [
    "[{x: (v.mean().round(2), v.std().round(2))} for x, v in cv_results.items() if 'test' in x]"
   ]
  },
  {
   "cell_type": "code",
   "execution_count": 6,
   "metadata": {},
   "outputs": [
    {
     "data": {
      "text/plain": [
       "array([0.582, 0.936, 0.043, 0.541, 0.686, 0.92 , 0.557, 0.491, 0.752,\n",
       "       0.024, 0.257, 0.224, 0.014, 0.305, 0.673, 0.653, 0.581, 0.499,\n",
       "       0.7  , 0.817, 0.097, 0.038, 0.079, 0.42 , 0.838, 0.869, 0.91 ,\n",
       "       0.589, 0.775, 0.013, 0.528, 0.011, 0.096, 0.326, 0.207, 0.659,\n",
       "       0.987, 0.004, 0.107, 0.098, 0.385, 0.054, 0.995, 0.9  , 0.145,\n",
       "       0.108, 0.381, 0.071, 0.951, 0.023, 0.671, 0.234, 0.989, 0.682,\n",
       "       0.868, 0.779, 0.972, 0.964, 0.02 , 0.903, 0.046, 0.023, 0.844,\n",
       "       0.063, 0.702, 0.095, 0.234, 0.482, 0.494, 0.58 , 0.515, 0.06 ,\n",
       "       0.032, 0.914, 0.21 , 0.912, 0.954, 0.02 , 0.892, 0.267, 0.107,\n",
       "       0.946, 0.199, 0.148, 0.427, 0.942, 0.114, 0.106, 0.165, 0.172,\n",
       "       0.208, 0.705, 0.054, 0.274, 0.121, 0.235, 0.085, 0.191, 0.666,\n",
       "       0.11 ])"
      ]
     },
     "execution_count": 6,
     "metadata": {},
     "output_type": "execute_result"
    }
   ],
   "source": [
    "cv_preds_probs = cross_val_predict(gbm, X, y, cv=5, method='predict_proba')[:,1]\n",
    "cv_preds_probs.round(3)"
   ]
  },
  {
   "cell_type": "code",
   "execution_count": 135,
   "metadata": {},
   "outputs": [
    {
     "data": {
      "text/plain": [
       "array([1, 0, 1, 0, 1, 0, 0, 0, 0, 1, 1, 1, 0, 1, 1, 1, 0, 0, 0, 1, 1, 1,\n",
       "       1, 1, 0, 1, 0, 0, 0, 0, 1, 1, 1, 1, 0, 1, 0, 1, 0, 0, 1, 0, 0, 0,\n",
       "       0, 0, 0, 1, 1, 0, 1, 1, 1, 0, 1, 1, 0, 0, 1, 0, 0, 0, 0, 1, 1, 0,\n",
       "       1, 1, 0, 1, 1, 1, 1, 0, 0, 0, 0, 0, 1, 1, 0, 0, 1, 1, 0, 0, 0, 1,\n",
       "       1, 0, 1, 1, 0, 1, 1, 1, 0, 0, 0, 0])"
      ]
     },
     "execution_count": 135,
     "metadata": {},
     "output_type": "execute_result"
    }
   ],
   "source": [
    "y"
   ]
  },
  {
   "cell_type": "code",
   "execution_count": 39,
   "metadata": {},
   "outputs": [
    {
     "data": {
      "text/plain": [
       "array([0, 0, 1, 0, 1, 0, 1, 1, 1, 0])"
      ]
     },
     "execution_count": 39,
     "metadata": {},
     "output_type": "execute_result"
    }
   ],
   "source": [
    "y"
   ]
  },
  {
   "cell_type": "code",
   "execution_count": null,
   "metadata": {},
   "outputs": [],
   "source": []
  }
 ],
 "metadata": {
  "kernelspec": {
   "display_name": "Python 3",
   "language": "python",
   "name": "python3"
  },
  "language_info": {
   "codemirror_mode": {
    "name": "ipython",
    "version": 3
   },
   "file_extension": ".py",
   "mimetype": "text/x-python",
   "name": "python",
   "nbconvert_exporter": "python",
   "pygments_lexer": "ipython3",
   "version": "3.8.6"
  }
 },
 "nbformat": 4,
 "nbformat_minor": 4
}
